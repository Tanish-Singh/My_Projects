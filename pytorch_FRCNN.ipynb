{
  "cells": [
    {
      "cell_type": "markdown",
      "metadata": {
        "id": "zrCRl_41PpYu"
      },
      "source": [
        "## **Faster rcnn pytorch**"
      ]
    },
    {
      "cell_type": "code",
      "source": [
        "%%shell\n",
        "\n",
        "# Download TorchVision repo to use some files from\n",
        "# references/detection\n",
        "git clone https://github.com/pytorch/vision.git\n",
        "cd vision\n",
        "git checkout v0.8.2\n",
        "\n",
        "cp references/detection/utils.py ../\n",
        "cp references/detection/transforms.py ../\n",
        "cp references/detection/coco_eval.py ../\n",
        "cp references/detection/engine.py ../\n",
        "cp references/detection/coco_utils.py ../"
      ],
      "metadata": {
        "id": "8BZVArhfxr0O"
      },
      "execution_count": null,
      "outputs": []
    },
    {
      "cell_type": "code",
      "execution_count": null,
      "metadata": {
        "colab": {
          "background_save": true
        },
        "id": "MrwiAd_LKT9o"
      },
      "outputs": [],
      "source": [
        "import os\n",
        "import numpy as np\n",
        "import pandas as pd\n",
        "import cv2\n",
        "\n",
        "import torch.nn as nn\n",
        "import torch.nn.functional as F\n",
        "import torch\n",
        "import torchvision\n",
        "from torchvision.models.detection.faster_rcnn import FastRCNNPredictor\n",
        "\n",
        "from engine import train_one_epoch, evaluate\n",
        "from torchvision import transforms as T\n",
        "from PIL import Image\n",
        "import torchvision.datasets as dset"
      ]
    },
    {
      "cell_type": "code",
      "execution_count": null,
      "metadata": {
        "colab": {
          "background_save": true
        },
        "id": "d_9TWYEPKT5b"
      },
      "outputs": [],
      "source": [
        "# Hyperparameters\n",
        "test_set_length = 40 \t\t # Test set (number of images)\n",
        "train_batch_size = 8  \t\t # Train batch size\n",
        "test_batch_size = 1    \t\t # Test batch size\n",
        "num_classes = 3      \t\t # Number of classes\n",
        "learning_rate = 0.005  \t\t # Learning rate\n",
        "num_epochs = 70     \t     # Number of epochs\n",
        "output_dir = \"######################\"   # Output directory to save the model\n"
      ]
    },
    {
      "cell_type": "code",
      "execution_count": null,
      "metadata": {
        "colab": {
          "background_save": true
        },
        "id": "oOcvO7RNRhfy"
      },
      "outputs": [],
      "source": [
        "from torch.utils.data import DataLoader"
      ]
    },
    {
      "cell_type": "code",
      "execution_count": null,
      "metadata": {
        "colab": {
          "background_save": true
        },
        "id": "ulYVRVicsWIl"
      },
      "outputs": [],
      "source": []
    },
    {
      "cell_type": "code",
      "execution_count": null,
      "metadata": {
        "colab": {
          "background_save": true
        },
        "id": "sxH2mWgMNukt"
      },
      "outputs": [],
      "source": [
        "\n",
        "def get_model(num_classes):\n",
        "\n",
        "\t# Load an pre-trained object detectin model (in this case faster-rcnn)\n",
        "\tmodel = torchvision.models.detection.fasterrcnn_resnet50_fpn(pretrained = True)\n",
        "\n",
        "\t# Number of input features\n",
        "\tin_features = model.roi_heads.box_predictor.cls_score.in_features\n",
        "\n",
        "\t# Replace the pre-trained head with a new head\n",
        "\tmodel.roi_heads.box_predictor = FastRCNNPredictor(in_features, num_classes)\n",
        "\n",
        "\treturn model\n"
      ]
    },
    {
      "cell_type": "code",
      "execution_count": null,
      "metadata": {
        "colab": {
          "background_save": true
        },
        "id": "2RtC5E5yN4z5"
      },
      "outputs": [],
      "source": [
        "\n",
        "def get_transforms(train):\n",
        "\n",
        "\ttransforms = []\n",
        "\n",
        "\t# Convert numpy image to PyTorch Tensor\n",
        "\ttransforms.append(T.ToTensor())\n",
        "\n",
        "\n",
        "\treturn T.Compose(transforms)"
      ]
    },
    {
      "cell_type": "code",
      "execution_count": null,
      "metadata": {
        "colab": {
          "background_save": true
        },
        "id": "CuUbe7MEljXE"
      },
      "outputs": [],
      "source": [
        "from torch.utils.data import DataLoader, Dataset"
      ]
    },
    {
      "cell_type": "code",
      "execution_count": null,
      "metadata": {
        "colab": {
          "background_save": true
        },
        "id": "HWU2CocjQ1aF"
      },
      "outputs": [],
      "source": [
        "def collate_fn(batch):\n",
        "    return tuple(zip(*batch))"
      ]
    },
    {
      "cell_type": "code",
      "execution_count": null,
      "metadata": {
        "colab": {
          "background_save": true
        },
        "id": "0lmclw775Idq"
      },
      "outputs": [],
      "source": [
        "from torchvision.datasets import CocoDetection #dedicated module to load coco data set"
      ]
    },
    {
      "cell_type": "code",
      "execution_count": null,
      "metadata": {
        "id": "577yobW6N_tB"
      },
      "outputs": [],
      "source": [
        "\n",
        "\n",
        "if __name__ == '__main__':\n",
        "\n",
        "\t# Setting up the device\n",
        "\tdevice = torch.device(\"cuda\") if torch.cuda.is_available() else torch.device(\"cpu\")\n",
        "\n",
        "\n",
        "\t# # Define train and test dataset\n",
        "\ttrain_d = CocoDetection(root = \"################\", annFile = \"######################\",\n",
        "\t\t\t\t\t\t\t transform = get_transforms(train = True))\n",
        "\n",
        "\ttest_d = CocoDetection(root = \"###################\", annFile = \"################################\",\n",
        "\t\t\t\t\t\t\t transform = get_transforms(train = False))\n",
        "\n",
        "\t# Define train and test dataloaders\n",
        "\tdata_loader = torch.utils.data.DataLoader(dataset=train_d, batch_size = train_batch_size, shuffle = True,\n",
        "\t\t\t\t\t collate_fn=collate_fn(train_d))\n",
        "\n",
        "\tdata_loader_test = torch.utils.data.DataLoader(dataset=test_d, batch_size = test_batch_size, shuffle = False,\n",
        "\t\t\t\t\t collate_fn=collate_fn(test_d))\n",
        "\n",
        "\n",
        "\t# Get the model using helper function\n",
        "\tmodel = get_model(num_classes)\n",
        "\tmodel.to(device = device)\n",
        "\n",
        "\t# Construct the optimizer\n",
        "\tparams = [p for p in model.parameters() if p.requires_grad]\n",
        "\toptimizer = torch.optim.SGD(params, lr = learning_rate, momentum = 0.9, weight_decay = 0.0005)\n",
        "\n",
        "\t# Learning rate scheduler decreases the learning rate by 10x every 3 epochs\n",
        "\tlr_scheduler = torch.optim.lr_scheduler.StepLR(optimizer, step_size = 3, gamma = 0.1)\n",
        "\n",
        "\tfor epoch in range(num_epochs):\n",
        "\t\t\n",
        "\t\ttrain_one_epoch(model, optimizer, data_loader, device, epoch, print_freq = 10)\n",
        "\t\tlr_scheduler.step()\n",
        "\t\t# Evaluate on the test dataset\n",
        "\t\tevaluate(model, data_loader_test, device = device)\n",
        "\n",
        "\tif not os.path.exists(output_dir):\n",
        "\t\tos.mkdir(output_dir)\n",
        "\n",
        "\t# Save the model state\t\n",
        "\ttorch.save(model.state_dict(), output_dir + \"/model_object_detection\")"
      ]
    }
  ],
  "metadata": {
    "accelerator": "GPU",
    "colab": {
      "machine_shape": "hm",
      "provenance": []
    },
    "gpuClass": "standard",
    "kernelspec": {
      "display_name": "Python 3",
      "name": "python3"
    },
    "language_info": {
      "name": "python"
    }
  },
  "nbformat": 4,
  "nbformat_minor": 0
}